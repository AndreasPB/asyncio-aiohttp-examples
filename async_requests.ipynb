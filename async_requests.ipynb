{
 "cells": [
  {
   "cell_type": "code",
   "execution_count": 1,
   "id": "57ea6319",
   "metadata": {},
   "outputs": [],
   "source": [
    "import aiohttp\n",
    "import asyncio\n",
    "import time\n",
    "import requests"
   ]
  },
  {
   "cell_type": "code",
   "execution_count": 2,
   "id": "fad5707a",
   "metadata": {},
   "outputs": [
    {
     "name": "stdout",
     "output_type": "stream",
     "text": [
      "--- 10.193920612335205 seconds ---\n",
      "<!doctype html><html lang=\"da-DK\" prefix=\"og: https://ogp.me/ns#\"><head><meta charset=\"UTF-8\"><meta \n"
     ]
    }
   ],
   "source": [
    "def sync_magenta():\n",
    "    url = 'http://magenta.dk'\n",
    "    return [requests.get(url) for x in range(10)]\n",
    "\n",
    "start_time = time.time()\n",
    "magenta = sync_magenta()\n",
    "print(\"--- %s seconds ---\" % (time.time() - start_time))\n",
    "print(magenta[0].text[:100])"
   ]
  },
  {
   "cell_type": "code",
   "execution_count": 3,
   "id": "13a1234c",
   "metadata": {
    "scrolled": true
   },
   "outputs": [
    {
     "name": "stdout",
     "output_type": "stream",
     "text": [
      "--- 8.0182363986969 seconds ---\n",
      "<!doctype html><html lang=\"da-DK\" prefix=\"og: https://ogp.me/ns#\"><head><meta charset=\"UTF-8\"><meta \n"
     ]
    }
   ],
   "source": [
    "async def get_magenta(session, url):\n",
    "    async with session.get(url) as res:\n",
    "        magenta = await res.text()\n",
    "        return magenta\n",
    "\n",
    "async def async_magenta():\n",
    "    async with aiohttp.ClientSession() as session:\n",
    "        url = 'http://magenta.dk'\n",
    "        tasks = [asyncio.ensure_future(get_magenta(session, url)) \n",
    "                 for x in range(10)]\n",
    "\n",
    "        magenta_reqs = await asyncio.gather(*tasks)\n",
    "        return [magenta for magenta in magenta_reqs]\n",
    "\n",
    "start_time = time.time()            \n",
    "magenta = await async_magenta()\n",
    "print(\"--- %s seconds ---\" % (time.time() - start_time))\n",
    "print(magenta[0][:100])"
   ]
  },
  {
   "cell_type": "code",
   "execution_count": 4,
   "id": "35aa5d6d",
   "metadata": {},
   "outputs": [
    {
     "name": "stdout",
     "output_type": "stream",
     "text": [
      "--- 15.452149629592896 seconds ---\n",
      "['bulbasaur', 'ivysaur', 'venusaur', 'charmander', 'charmeleon', 'charizard', 'squirtle', 'wartortle', 'blastoise', 'caterpie']\n"
     ]
    }
   ],
   "source": [
    "def sync_pokemon():\n",
    "    url = 'https://pokeapi.co/api/v2/pokemon/'\n",
    "    return [requests.get(url + str(x)).json()['name'] \n",
    "            for x in range(1, 151)]\n",
    "\n",
    "start_time = time.time()\n",
    "pokemon = sync_pokemon()\n",
    "print(\"--- %s seconds ---\" % (time.time() - start_time))\n",
    "print(pokemon[:10])"
   ]
  },
  {
   "cell_type": "code",
   "execution_count": 5,
   "id": "43941cbf",
   "metadata": {},
   "outputs": [
    {
     "name": "stdout",
     "output_type": "stream",
     "text": [
      "--- 1.1729869842529297 seconds ---\n",
      "['bulbasaur', 'ivysaur', 'venusaur', 'charmander', 'charmeleon', 'charizard', 'squirtle', 'wartortle', 'blastoise', 'caterpie']\n"
     ]
    }
   ],
   "source": [
    "async def get_pokemon(session, url):\n",
    "    async with session.get(url) as res:\n",
    "        pokemon = await res.json()\n",
    "        return pokemon['name']\n",
    "\n",
    "async def async_pokemon():\n",
    "    async with aiohttp.ClientSession() as session:\n",
    "        tasks = []\n",
    "        for number in range(1, 151):\n",
    "            url = f'https://pokeapi.co/api/v2/pokemon/{number}'\n",
    "            tasks.append(asyncio.ensure_future(get_pokemon(session, url)))\n",
    "\n",
    "        original_pokemon = await asyncio.gather(*tasks)\n",
    "        return [pokemon for pokemon in original_pokemon]\n",
    "\n",
    "start_time = time.time()\n",
    "list_of_pokemon = await async_pokemon()\n",
    "print(\"--- %s seconds ---\" % (time.time() - start_time))\n",
    "print(list_of_pokemon[:10])"
   ]
  },
  {
   "cell_type": "code",
   "execution_count": 8,
   "id": "776ad988",
   "metadata": {},
   "outputs": [
    {
     "name": "stdout",
     "output_type": "stream",
     "text": [
      "--- 14.902341604232788 seconds ---\n",
      "# HELP python_gc_objects_collected_total Objects collected during gc\n",
      "# TYPE python_gc_objects_collected_total counter\n",
      "python_gc_objects_collected_total{generation=\"0\"} 114435.0\n",
      "python_gc_objects_collected_total{generation=\"1\"} 28949.0\n",
      "python_gc_objects_collected_total{generation=\"2\"} 37265.0\n",
      "# HELP python_gc_objects_uncollectable_total Uncollectable object found during GC\n",
      "# TYPE python_gc_objects_uncollectable_total counter\n",
      "python_gc_objects_uncollectable_total{generation=\"0\"} 0.0\n",
      "python_gc_obje\n"
     ]
    }
   ],
   "source": [
    "def sync_metric():\n",
    "    url = 'http://localhost:5000/metrics'\n",
    "    return [requests.get(url) for metric in range(25)]\n",
    "\n",
    "start_time = time.time()\n",
    "metrics = sync_metric()\n",
    "print(\"--- %s seconds ---\" % (time.time() - start_time))\n",
    "print(metrics[0].text[:500])"
   ]
  },
  {
   "cell_type": "code",
   "execution_count": 9,
   "id": "56c38e54",
   "metadata": {},
   "outputs": [
    {
     "name": "stdout",
     "output_type": "stream",
     "text": [
      "--- 7.803090333938599 seconds ---\n",
      "# HELP python_gc_objects_collected_total Objects collected during gc\n",
      "# TYPE python_gc_objects_collected_total counter\n",
      "python_gc_objects_collected_total{generation=\"0\"} 119664.0\n",
      "python_gc_objects_collected_total{generation=\"1\"} 31879.0\n",
      "python_gc_objects_collected_total{generation=\"2\"} 37265.0\n",
      "# HELP python_gc_objects_uncollectable_total Uncollectable object found during GC\n",
      "# TYPE python_gc_objects_uncollectable_total counter\n",
      "python_gc_objects_uncollectable_total{generation=\"0\"} 0.0\n",
      "python_gc_obje\n"
     ]
    }
   ],
   "source": [
    "async def get_metrics(session, url):\n",
    "    async with session.get(url) as res:\n",
    "        metric = await res.text()\n",
    "        return metric\n",
    "\n",
    "async def async_metric():\n",
    "    async with aiohttp.ClientSession() as session:\n",
    "        url = 'http://localhost:5000/metrics'\n",
    "        tasks = [asyncio.ensure_future(get_metrics(session, url)) \n",
    "                 for x in range(25)]\n",
    "        \n",
    "        metrics = await asyncio.gather(*tasks)\n",
    "        return [metric for metric in metrics]\n",
    "\n",
    "start_time = time.time()            \n",
    "metrics = await async_metric()\n",
    "print(\"--- %s seconds ---\" % (time.time() - start_time))\n",
    "print(metrics[0][:500])"
   ]
  },
  {
   "cell_type": "code",
   "execution_count": null,
   "id": "428a5449",
   "metadata": {},
   "outputs": [],
   "source": []
  }
 ],
 "metadata": {
  "kernelspec": {
   "display_name": "Python 3",
   "language": "python",
   "name": "python3"
  },
  "language_info": {
   "codemirror_mode": {
    "name": "ipython",
    "version": 3
   },
   "file_extension": ".py",
   "mimetype": "text/x-python",
   "name": "python",
   "nbconvert_exporter": "python",
   "pygments_lexer": "ipython3",
   "version": "3.8.6"
  }
 },
 "nbformat": 4,
 "nbformat_minor": 5
}
