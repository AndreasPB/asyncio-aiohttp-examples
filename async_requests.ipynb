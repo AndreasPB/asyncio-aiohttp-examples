{
 "cells": [
  {
   "cell_type": "code",
   "execution_count": 4,
   "id": "57ea6319",
   "metadata": {},
   "outputs": [],
   "source": [
    "import aiohttp\n",
    "import asyncio\n",
    "import time\n",
    "import requests"
   ]
  },
  {
   "cell_type": "code",
   "execution_count": 12,
   "id": "fad5707a",
   "metadata": {},
   "outputs": [
    {
     "name": "stdout",
     "output_type": "stream",
     "text": [
      "--- 0.8670508861541748 seconds ---\n"
     ]
    }
   ],
   "source": [
    "def sync_magenta():\n",
    "    r = requests.get('http://magenta.dk')\n",
    "    return [r for x in range(10)]\n",
    "\n",
    "start_time = time.time()\n",
    "sync_func()\n",
    "print(\"--- %s seconds ---\" % (time.time() - start_time))"
   ]
  },
  {
   "cell_type": "code",
   "execution_count": 6,
   "id": "43941cbf",
   "metadata": {},
   "outputs": [
    {
     "name": "stdout",
     "output_type": "stream",
     "text": [
      "--- 1.4259531497955322 seconds ---\n"
     ]
    }
   ],
   "source": [
    "async def get_pokemon(session, url):\n",
    "    async with session.get(url) as resp:\n",
    "        pokemon = await resp.json()\n",
    "        return pokemon['name']\n",
    "\n",
    "async def async_pokemon():\n",
    "    async with aiohttp.ClientSession() as session:\n",
    "        tasks = []\n",
    "        for number in range(1, 151):\n",
    "            url = f'https://pokeapi.co/api/v2/pokemon/{number}'\n",
    "            tasks.append(asyncio.ensure_future(get_pokemon(session, url)))\n",
    "\n",
    "        original_pokemon = await asyncio.gather(*tasks)\n",
    "        return [pokemon for pokemon in original_pokemon]\n",
    "\n",
    "start_time = time.time()\n",
    "list_of_pokemon = await async_pokemon()\n",
    "print(\"--- %s seconds ---\" % (time.time() - start_time))"
   ]
  },
  {
   "cell_type": "code",
   "execution_count": 10,
   "id": "91a2a667",
   "metadata": {},
   "outputs": [
    {
     "name": "stdout",
     "output_type": "stream",
     "text": [
      "--- 11.649462938308716 seconds ---\n"
     ]
    }
   ],
   "source": [
    "async def get_metrics(session, url):\n",
    "    async with session.get(url) as res:\n",
    "        metric = await res.text()\n",
    "        return metric\n",
    "\n",
    "async def async_metric():\n",
    "    async with aiohttp.ClientSession() as session:\n",
    "        tasks = []\n",
    "        for x in range(100):\n",
    "            url = 'http://localhost:5000'\n",
    "            tasks.append(asyncio.ensure_future(get_metrics(session, url)))\n",
    "\n",
    "        metrics = await asyncio.gather(*tasks)\n",
    "        return [metric for metric in metrics]\n",
    "\n",
    "start_time = time.time()            \n",
    "metrics = await async_metric()\n",
    "print(\"--- %s seconds ---\" % (time.time() - start_time))"
   ]
  },
  {
   "cell_type": "code",
   "execution_count": 9,
   "id": "776ad988",
   "metadata": {},
   "outputs": [
    {
     "name": "stdout",
     "output_type": "stream",
     "text": [
      "--- 14.056135416030884 seconds ---\n"
     ]
    }
   ],
   "source": [
    "def sync_metric():\n",
    "    url = 'http://localhost:5000'\n",
    "    return [requests.get(url) for metric in range(100)]\n",
    "\n",
    "start_time = time.time()\n",
    "metrics = sync_metric()\n",
    "print(\"--- %s seconds ---\" % (time.time() - start_time))"
   ]
  },
  {
   "cell_type": "code",
   "execution_count": null,
   "id": "60aa9c03",
   "metadata": {},
   "outputs": [],
   "source": []
  },
  {
   "cell_type": "code",
   "execution_count": null,
   "id": "7ef3ad93",
   "metadata": {},
   "outputs": [],
   "source": []
  }
 ],
 "metadata": {
  "kernelspec": {
   "display_name": "Python 3",
   "language": "python",
   "name": "python3"
  },
  "language_info": {
   "codemirror_mode": {
    "name": "ipython",
    "version": 3
   },
   "file_extension": ".py",
   "mimetype": "text/x-python",
   "name": "python",
   "nbconvert_exporter": "python",
   "pygments_lexer": "ipython3",
   "version": "3.8.6"
  }
 },
 "nbformat": 4,
 "nbformat_minor": 5
}
